{
 "cells": [
  {
   "cell_type": "code",
   "execution_count": null,
   "metadata": {},
   "outputs": [],
   "source": [
    "sent1 = \"It was very bad. I did not like it.\""
   ]
  },
  {
   "cell_type": "code",
   "execution_count": 2,
   "metadata": {},
   "outputs": [],
   "source": [
    "sent2 = \"It was awesome. I like it very much.\""
   ]
  },
  {
   "cell_type": "code",
   "execution_count": 3,
   "metadata": {},
   "outputs": [],
   "source": [
    "sentences = [\n",
    "    {'review':sent1 , \"sentiment\" : 0},\n",
    "    {'review':sent2 , \"sentiment\" : 1}\n",
    "]"
   ]
  },
  {
   "cell_type": "code",
   "execution_count": 4,
   "metadata": {},
   "outputs": [
    {
     "data": {
      "text/html": [
       "<div>\n",
       "<style scoped>\n",
       "    .dataframe tbody tr th:only-of-type {\n",
       "        vertical-align: middle;\n",
       "    }\n",
       "\n",
       "    .dataframe tbody tr th {\n",
       "        vertical-align: top;\n",
       "    }\n",
       "\n",
       "    .dataframe thead th {\n",
       "        text-align: right;\n",
       "    }\n",
       "</style>\n",
       "<table border=\"1\" class=\"dataframe\">\n",
       "  <thead>\n",
       "    <tr style=\"text-align: right;\">\n",
       "      <th></th>\n",
       "      <th>review</th>\n",
       "      <th>sentiment</th>\n",
       "    </tr>\n",
       "  </thead>\n",
       "  <tbody>\n",
       "    <tr>\n",
       "      <th>0</th>\n",
       "      <td>It was very bad. I did not like it.</td>\n",
       "      <td>0</td>\n",
       "    </tr>\n",
       "    <tr>\n",
       "      <th>1</th>\n",
       "      <td>It was awesome. I like it very much.</td>\n",
       "      <td>1</td>\n",
       "    </tr>\n",
       "  </tbody>\n",
       "</table>\n",
       "</div>"
      ],
      "text/plain": [
       "                                 review  sentiment\n",
       "0   It was very bad. I did not like it.          0\n",
       "1  It was awesome. I like it very much.          1"
      ]
     },
     "execution_count": 4,
     "metadata": {},
     "output_type": "execute_result"
    }
   ],
   "source": [
    "import pandas as pd\n",
    "from collections import defaultdict\n",
    "df = pd.DataFrame(sentences)\n",
    "df"
   ]
  },
  {
   "cell_type": "code",
   "execution_count": 5,
   "metadata": {},
   "outputs": [
    {
     "data": {
      "text/html": [
       "<div>\n",
       "<style scoped>\n",
       "    .dataframe tbody tr th:only-of-type {\n",
       "        vertical-align: middle;\n",
       "    }\n",
       "\n",
       "    .dataframe tbody tr th {\n",
       "        vertical-align: top;\n",
       "    }\n",
       "\n",
       "    .dataframe thead th {\n",
       "        text-align: right;\n",
       "    }\n",
       "</style>\n",
       "<table border=\"1\" class=\"dataframe\">\n",
       "  <thead>\n",
       "    <tr style=\"text-align: right;\">\n",
       "      <th></th>\n",
       "      <th>review</th>\n",
       "      <th>sentiment</th>\n",
       "    </tr>\n",
       "  </thead>\n",
       "  <tbody>\n",
       "    <tr>\n",
       "      <th>1</th>\n",
       "      <td>It was awesome. I like it very much.</td>\n",
       "      <td>1</td>\n",
       "    </tr>\n",
       "  </tbody>\n",
       "</table>\n",
       "</div>"
      ],
      "text/plain": [
       "                                 review  sentiment\n",
       "1  It was awesome. I like it very much.          1"
      ]
     },
     "execution_count": 5,
     "metadata": {},
     "output_type": "execute_result"
    }
   ],
   "source": [
    "positive = df[df['sentiment']==1]\n",
    "negative = df[df['sentiment']==0]\n",
    "positive"
   ]
  },
  {
   "cell_type": "code",
   "execution_count": 6,
   "metadata": {},
   "outputs": [],
   "source": [
    "def cleaning(data):\n",
    "    cleaned = []\n",
    "    for sentences in data:\n",
    "        sentences = sentences.replace('.',' ')\n",
    "        split = sentences.split(' ')\n",
    "        clean = ' '.join( [i.lower() for i in split] )\n",
    "        cleaned.append(clean)\n",
    "    return cleaned"
   ]
  },
  {
   "cell_type": "code",
   "execution_count": 7,
   "metadata": {},
   "outputs": [
    {
     "data": {
      "text/plain": [
       "{'awesome', 'bad', 'did', 'i', 'it', 'like', 'much', 'not', 'very', 'was'}"
      ]
     },
     "execution_count": 7,
     "metadata": {},
     "output_type": "execute_result"
    }
   ],
   "source": [
    "cleaned_all = cleaning(df['review'].values)\n",
    "unique = set()\n",
    "for clean in cleaned_all:\n",
    "    unique = unique.union(set(clean.split(' ') ))\n",
    "unique.remove('')\n",
    "unique"
   ]
  },
  {
   "cell_type": "code",
   "execution_count": 8,
   "metadata": {},
   "outputs": [
    {
     "data": {
      "text/plain": [
       "defaultdict(<function __main__.<lambda>()>,\n",
       "            {'was': 2,\n",
       "             'much': 1,\n",
       "             'i': 2,\n",
       "             'it': 4,\n",
       "             'like': 2,\n",
       "             'did': 1,\n",
       "             'awesome': 1,\n",
       "             'not': 1,\n",
       "             'bad': 1,\n",
       "             'very': 2})"
      ]
     },
     "execution_count": 8,
     "metadata": {},
     "output_type": "execute_result"
    }
   ],
   "source": [
    "all_sentences = []\n",
    "for clean in cleaned_all:\n",
    "    all_sentences.extend(clean.split(' '))\n",
    "\n",
    "count_total = defaultdict(lambda:0)\n",
    "for ele in unique:\n",
    "    count_total[ele] += all_sentences.count(ele)\n",
    "count_total"
   ]
  },
  {
   "cell_type": "code",
   "execution_count": 9,
   "metadata": {},
   "outputs": [],
   "source": [
    "def search_count(string,element):\n",
    "    string = string.split(' ')\n",
    "    return string.count(element)"
   ]
  },
  {
   "cell_type": "code",
   "execution_count": 10,
   "metadata": {},
   "outputs": [
    {
     "data": {
      "text/plain": [
       "defaultdict(<function __main__.<lambda>()>,\n",
       "            {'was': 1,\n",
       "             'much': 1,\n",
       "             'i': 1,\n",
       "             'it': 2,\n",
       "             'like': 1,\n",
       "             'did': 0,\n",
       "             'awesome': 1,\n",
       "             'not': 0,\n",
       "             'bad': 0,\n",
       "             'very': 1})"
      ]
     },
     "execution_count": 10,
     "metadata": {},
     "output_type": "execute_result"
    }
   ],
   "source": [
    "dict_positive = defaultdict(lambda:0)\n",
    "dict_negative = defaultdict(lambda:0)\n",
    "\n",
    "cleaned_positive = cleaning(positive['review'].values)\n",
    "cleaned_negative = cleaning(negative['review'].values)\n",
    "\n",
    "for ele in unique:\n",
    "    \n",
    "    for i in cleaned_positive:\n",
    "        dict_positive[ele] += search_count(i,ele)\n",
    "    \n",
    "    for i in cleaned_negative:\n",
    "        dict_negative[ele] += search_count(i,ele)\n",
    "dict_positive"
   ]
  },
  {
   "cell_type": "code",
   "execution_count": 11,
   "metadata": {},
   "outputs": [],
   "source": [
    "proba_positive = {}\n",
    "proba_negative = {}\n",
    "\n",
    "for ele in unique:\n",
    "    proba_positive[ele]  = (dict_positive[ele] + 1)/ (count_total[ele] + len(unique) )\n",
    "    \n",
    "    proba_negative[ele]  = (dict_negative[ele] + 1)/ (count_total[ele] + len(unique) )"
   ]
  },
  {
   "cell_type": "code",
   "execution_count": 12,
   "metadata": {},
   "outputs": [
    {
     "data": {
      "text/plain": [
       "{'was': 0.16666666666666666,\n",
       " 'much': 0.18181818181818182,\n",
       " 'i': 0.16666666666666666,\n",
       " 'it': 0.21428571428571427,\n",
       " 'like': 0.16666666666666666,\n",
       " 'did': 0.09090909090909091,\n",
       " 'awesome': 0.18181818181818182,\n",
       " 'not': 0.09090909090909091,\n",
       " 'bad': 0.09090909090909091,\n",
       " 'very': 0.16666666666666666}"
      ]
     },
     "execution_count": 12,
     "metadata": {},
     "output_type": "execute_result"
    }
   ],
   "source": [
    "proba_positive"
   ]
  },
  {
   "cell_type": "code",
   "execution_count": 13,
   "metadata": {},
   "outputs": [
    {
     "data": {
      "text/plain": [
       "{'was': 0.16666666666666666,\n",
       " 'much': 0.09090909090909091,\n",
       " 'i': 0.16666666666666666,\n",
       " 'it': 0.21428571428571427,\n",
       " 'like': 0.16666666666666666,\n",
       " 'did': 0.18181818181818182,\n",
       " 'awesome': 0.09090909090909091,\n",
       " 'not': 0.18181818181818182,\n",
       " 'bad': 0.18181818181818182,\n",
       " 'very': 0.16666666666666666}"
      ]
     },
     "execution_count": 13,
     "metadata": {},
     "output_type": "execute_result"
    }
   ],
   "source": [
    "proba_negative"
   ]
  },
  {
   "cell_type": "code",
   "execution_count": 14,
   "metadata": {},
   "outputs": [],
   "source": [
    "def prediction ( sentence , pp = proba_positive , pn = proba_negative , uni = unique):\n",
    "    sentence = cleaning([sentence])[0]\n",
    "    proba = 1\n",
    "    for word in sentence.split(' '):\n",
    "        if word in unique:\n",
    "            proba *= pp[word] / pn[word]\n",
    "    return proba"
   ]
  },
  {
   "cell_type": "code",
   "execution_count": 15,
   "metadata": {},
   "outputs": [
    {
     "name": "stdout",
     "output_type": "stream",
     "text": [
      "positive\n"
     ]
    }
   ],
   "source": [
    "pred = prediction(\"Very awesome product.\")\n",
    "if pred > 1:\n",
    "    print('positive')\n",
    "elif pred == 1:\n",
    "    print('neutral')\n",
    "else:\n",
    "    print('negative')"
   ]
  }
 ],
 "metadata": {
  "kernelspec": {
   "display_name": "Python 3",
   "language": "python",
   "name": "python3"
  },
  "language_info": {
   "codemirror_mode": {
    "name": "ipython",
    "version": 3
   },
   "file_extension": ".py",
   "mimetype": "text/x-python",
   "name": "python",
   "nbconvert_exporter": "python",
   "pygments_lexer": "ipython3",
   "version": "3.8.2"
  }
 },
 "nbformat": 4,
 "nbformat_minor": 4
}
