{
 "cells": [
  {
   "cell_type": "code",
   "execution_count": 1,
   "metadata": {},
   "outputs": [],
   "source": [
    "import requests \n",
    "from bs4 import BeautifulSoup \n",
    "from tqdm import tqdm"
   ]
  },
  {
   "cell_type": "code",
   "execution_count": 2,
   "metadata": {},
   "outputs": [],
   "source": [
    "URL = \"https://www.flipkart.com/boat-rockerz-255f-bluetooth-headset/product-reviews/itmc3e36184a11ad?pid=ACCF6SZ8EFWFEPZ6&lid=LSTACCF6SZ8EFWFEPZ6H8VOPQ&marketplace=FLIPKART&page=3\"\n",
    "r = requests.get(URL)    \n",
    "soup = BeautifulSoup(r.content, 'html5lib') "
   ]
  },
  {
   "cell_type": "code",
   "execution_count": 3,
   "metadata": {},
   "outputs": [],
   "source": [
    "col = soup.find_all('div',attrs={'class':'col _390CkK _1gY8H-'})"
   ]
  },
  {
   "cell_type": "code",
   "execution_count": 4,
   "metadata": {},
   "outputs": [
    {
     "data": {
      "text/plain": [
       "[{'review': \"Sound Quality is Good , Battery Back is good , Design is good but it's will stop working after 2-3 months definitely because this is the 2nd boat rockers I have bought and stopped working after 2 monthsREAD MORE\",\n",
       "  'sentiment': 0},\n",
       " {'review': \"Extra Bass decreases the quality of the overall Sound.BASS RATING :9.5/10If you have equaliser then it will be ok.but if you dont have correct  equaliser settings then it will be hard to hear the low tunes.Even though I'm a Huge bass lover yet I'm fully satisfied with bass quality but not at all satisfied with overall sound quality.SOUND RATING : 6/10Battery Backup is average.5-7 hour (60-70%Vol)BACKUP RATING : 7/10Connectivity is Good.CONNECTIVITY Rating : 8/10Call Quality is also G...READ MORE\",\n",
       "  'sentiment': 1},\n",
       " {'review': 'good product. better used dis for listening music not for calling purpose...bass is lit.. only the cons which i didnt like is during the call, it holds tight on ears and we can hear the echo of voice at the time we talk on call and it actually distracts. baaaky sab badiyaaa..READ MORE',\n",
       "  'sentiment': 1},\n",
       " {'review': 'I just loved this earphone. Thank you flipkart for such an amazing product. superb bass, battery last for more than 8 hours. Only the thing that disappoints me is the Bluetooth range. Rest all is good.READ MORE',\n",
       "  'sentiment': 1},\n",
       " {'review': 'Good delivery flipkart iam ordered on big sale offer got on just 999.Good headset, super sound quality, nice battery backup, thank u boat for this wonderful headsetREAD MORE',\n",
       "  'sentiment': 1},\n",
       " {'review': \"Amazing sound quality with boosted Bass. But if your r listing music on YouTube then might the sound quality may not that good as u experience on Gaana aap or related music app or music that you have download on your cell phone. Don't worry for that it only differ slightly i.e. unpredictable. Overall you will get owsm sound and bass experiences. Coming to the battery backup it is up to 6hrs + and charges quickly for urgent work.The build quality is good and has a magnetic end that don't work...READ MORE\",\n",
       "  'sentiment': 1},\n",
       " {'review': \"The battery suddenly go from 60% to 0% and then headphones turned off. Don't recommend this due this type of battery issue. I've read lots of comments saying that battery suddenly drop from 60% to 0%. Apart from battery issue the sound quality is decent not great like JBL. Also the noise cancellation is very bad, the person on the other end of the call can't hear voice properly.READ MORE\",\n",
       "  'sentiment': 0},\n",
       " {'review': '1st of i got this in 999 on freedon sale 1 day delievery and product packing is good.its easy too use and after 8 hrs of uses i write this review battry backup is too good and still its on 75% its well good for soft music l0ver and not reccommend for haevy bass lover. its better for pubg also calling with noise cancellation is also good. bass is not as much heavy but its okay on other budget bluetooth headset.READ MORE',\n",
       "  'sentiment': 1},\n",
       " {'review': 'My First Buyer Wireless Product Are V.Gd And I Loving It This Is Perfect Earphone but some time play pubg sound was not goodREAD MORE',\n",
       "  'sentiment': 1},\n",
       " {'review': 'nice product this product is for who loving bass and easy to hold in ear .it feel comfortable you may  download equalizer app for Better experience.READ MORE',\n",
       "  'sentiment': 1}]"
      ]
     },
     "execution_count": 4,
     "metadata": {},
     "output_type": "execute_result"
    }
   ],
   "source": [
    "dataset = []\n",
    "for i in col:\n",
    "    row = i.find_all('div',attrs={'class':'row'})\n",
    "        \n",
    "    rating = row[0].find('div').text\n",
    "    review = row[1].find('div').text\n",
    "    \n",
    "    if float(rating) > 2.5:\n",
    "        sentiment = 1\n",
    "    else:\n",
    "        sentiment = 0\n",
    "    dataset.append({'review': review , 'sentiment' : sentiment})\n",
    "dataset"
   ]
  },
  {
   "cell_type": "code",
   "execution_count": 5,
   "metadata": {},
   "outputs": [
    {
     "name": "stderr",
     "output_type": "stream",
     "text": [
      "100%|██████████| 1000/1000 [18:50<00:00,  1.13s/it]\n"
     ]
    },
    {
     "data": {
      "text/plain": [
       "9890"
      ]
     },
     "execution_count": 5,
     "metadata": {},
     "output_type": "execute_result"
    }
   ],
   "source": [
    "dataset = []\n",
    "\n",
    "for i in tqdm(range(1,1001)):\n",
    "\n",
    "    URL = f\"https://www.flipkart.com/boat-rockerz-255f-bluetooth-headset/product-reviews/itmc3e36184a11ad?pid=ACCF6SZ8EFWFEPZ6&lid=LSTACCF6SZ8EFWFEPZ6H8VOPQ&marketplace=FLIPKART&page={i}\"\n",
    "    r = requests.get(URL)    \n",
    "    soup = BeautifulSoup(r.content, 'html5lib') \n",
    "\n",
    "    cols = soup.find_all('div',attrs={'class':'col _390CkK _1gY8H-'})\n",
    "\n",
    "    for col in cols:\n",
    "        row = col.find_all('div',attrs={'class':'row'})\n",
    "\n",
    "        rating = row[0].find('div').text\n",
    "        review = row[1].find('div').text\n",
    "\n",
    "#         if float(rating) > 3.5:\n",
    "#             sentiment = 1\n",
    "#         else:\n",
    "#             sentiment = 0\n",
    "        dataset.append({'review': review , 'sentiment' : rating})\n",
    "len(dataset)"
   ]
  },
  {
   "cell_type": "code",
   "execution_count": 6,
   "metadata": {},
   "outputs": [],
   "source": [
    "import pandas as pd\n",
    "pd.DataFrame(dataset).to_csv('data.csv')"
   ]
  }
 ],
 "metadata": {
  "kernelspec": {
   "display_name": "Python 3",
   "language": "python",
   "name": "python3"
  },
  "language_info": {
   "codemirror_mode": {
    "name": "ipython",
    "version": 3
   },
   "file_extension": ".py",
   "mimetype": "text/x-python",
   "name": "python",
   "nbconvert_exporter": "python",
   "pygments_lexer": "ipython3",
   "version": "3.8.2"
  }
 },
 "nbformat": 4,
 "nbformat_minor": 4
}
