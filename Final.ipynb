{
 "cells": [
  {
   "cell_type": "code",
   "execution_count": 1,
   "metadata": {},
   "outputs": [],
   "source": [
    "import pandas as pd\n",
    "import contractions\n",
    "import nltk\n",
    "from nltk.corpus import stopwords\n",
    "import re\n",
    "from collections import defaultdict \n",
    "df = pd.read_csv('data.csv',index_col='Unnamed: 0')"
   ]
  },
  {
   "cell_type": "code",
   "execution_count": 2,
   "metadata": {},
   "outputs": [],
   "source": [
    "positive = df[df['sentiment']>=4]\n",
    "negative = df[df['sentiment']<4]\n",
    "positive = positive[:len(negative)]"
   ]
  },
  {
   "cell_type": "code",
   "execution_count": 3,
   "metadata": {},
   "outputs": [],
   "source": [
    "def cleaning(data):\n",
    "    cleaned = []\n",
    "    for sentences in data:\n",
    "        # clean errors\n",
    "        sentences = sentences.encode('ascii','ignore')\n",
    "        sentences = sentences.decode()\n",
    "        \n",
    "        # fix contactions\n",
    "        sentences = contractions.fix(sentences.replace('READ MORE',''))\n",
    "        \n",
    "        # remove everything except characters\n",
    "        sentences =  re.sub('[^a-zA-Z]', ' ', sentences)\n",
    "        \n",
    "        split = sentences.split(' ')\n",
    "        clean = ' '.join( [i.lower() for i in split] )\n",
    "        \n",
    "        cleaned.append(' ' + clean)\n",
    "        \n",
    "    return cleaned"
   ]
  },
  {
   "cell_type": "code",
   "execution_count": 4,
   "metadata": {},
   "outputs": [],
   "source": [
    "cleaned_all = cleaning(positive['review'].values)\n",
    "cleaned_all.extend(cleaning(negative['review'].values))\n",
    "\n",
    "unique = set()\n",
    "for clean in cleaned_all:\n",
    "    unique = unique.union(set(clean.split(' ')))\n",
    "unique.remove('')"
   ]
  },
  {
   "cell_type": "code",
   "execution_count": 5,
   "metadata": {},
   "outputs": [],
   "source": [
    "all_sentences = []\n",
    "for clean in cleaned_all:\n",
    "    all_sentences.extend(clean.split(' '))\n",
    "\n",
    "count_total = defaultdict(lambda:0)\n",
    "for ele in unique:\n",
    "    count_total[ele] += all_sentences.count(ele)"
   ]
  },
  {
   "cell_type": "code",
   "execution_count": 6,
   "metadata": {},
   "outputs": [],
   "source": [
    "def search_count(string,element):\n",
    "    string = string.split(' ')\n",
    "    return string.count(element)"
   ]
  },
  {
   "cell_type": "code",
   "execution_count": 7,
   "metadata": {},
   "outputs": [],
   "source": [
    "dict_positive = defaultdict(lambda:0)\n",
    "dict_negative = defaultdict(lambda:0)\n",
    "\n",
    "cleaned_positive = cleaning(positive['review'].values)\n",
    "cleaned_negative = cleaning(negative['review'].values)\n",
    "\n",
    "for ele in unique:\n",
    "    \n",
    "    for i in cleaned_positive:\n",
    "        dict_positive[ele] += search_count(i,ele)\n",
    "    \n",
    "    for i in cleaned_negative:\n",
    "        dict_negative[ele] += search_count(i,ele)"
   ]
  },
  {
   "cell_type": "code",
   "execution_count": 8,
   "metadata": {},
   "outputs": [],
   "source": [
    "proba_positive = {}\n",
    "proba_negative = {}\n",
    "\n",
    "for ele in unique:\n",
    "    proba_positive[ele]  = (dict_positive[ele] + 1)/ (count_total[ele] + len(unique) )\n",
    "    \n",
    "    proba_negative[ele]  = (dict_negative[ele] + 1)/ (count_total[ele] + len(unique) )"
   ]
  },
  {
   "cell_type": "code",
   "execution_count": 9,
   "metadata": {},
   "outputs": [],
   "source": [
    "def prediction ( sentence , pp = proba_positive , pn = proba_negative , uni = unique):\n",
    "    sentence = cleaning([sentence])[0]\n",
    "    proba = 1\n",
    "    for word in sentence.split(' '):\n",
    "        if word in unique:\n",
    "            print(f\"{word}\\t{pp[word]}\\t/\\t{pn[word]}\\t=\\t{pp[word] / pn[word]}\")\n",
    "            proba *= pp[word] / pn[word]\n",
    "    return proba"
   ]
  },
  {
   "cell_type": "code",
   "execution_count": 10,
   "metadata": {},
   "outputs": [
    {
     "name": "stdout",
     "output_type": "stream",
     "text": [
      "awesome\t0.08278016399843811\t/\t0.005466614603670442\t=\t15.142857142857142\n",
      "good\t0.2627568376649884\t/\t0.10178255544972105\t=\t2.5815508021390374\n",
      "positive\n"
     ]
    }
   ],
   "source": [
    "pred = prediction(\"awesome, good\")\n",
    "if pred > 1:\n",
    "    print('positive')\n",
    "elif pred == 1:\n",
    "    print('neutral')\n",
    "else:\n",
    "    print('negative')"
   ]
  },
  {
   "cell_type": "code",
   "execution_count": 11,
   "metadata": {},
   "outputs": [
    {
     "name": "stdout",
     "output_type": "stream",
     "text": [
      "bad\t0.005980861244019139\t/\t0.06299840510366826\t=\t0.09493670886075949\n",
      "broken\t0.00021353833013025838\t/\t0.0025624599615631004\t=\t0.08333333333333334\n",
      "worse\t0.00021358393848782572\t/\t0.002349423323366083\t=\t0.09090909090909091\n",
      "negative\n"
     ]
    }
   ],
   "source": [
    "pred = prediction(\"bad, broken, worse\")\n",
    "if pred > 1:\n",
    "    print('positive')\n",
    "elif pred == 1:\n",
    "    print('neutral')\n",
    "else:\n",
    "    print('negative')"
   ]
  }
 ],
 "metadata": {
  "kernelspec": {
   "display_name": "Python 3",
   "language": "python",
   "name": "python3"
  },
  "language_info": {
   "codemirror_mode": {
    "name": "ipython",
    "version": 3
   },
   "file_extension": ".py",
   "mimetype": "text/x-python",
   "name": "python",
   "nbconvert_exporter": "python",
   "pygments_lexer": "ipython3",
   "version": "3.8.2"
  }
 },
 "nbformat": 4,
 "nbformat_minor": 4
}
